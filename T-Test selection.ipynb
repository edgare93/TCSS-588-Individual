{
 "cells": [
  {
   "cell_type": "code",
   "execution_count": 3,
   "metadata": {},
   "outputs": [],
   "source": [
    "#Read in the data from the file\n",
    "my.data <- read.csv(\"aml.data.RNA.csv\", sep=\",\", header=T)"
   ]
  },
  {
   "cell_type": "code",
   "execution_count": 4,
   "metadata": {},
   "outputs": [
    {
     "data": {
      "text/html": [
       "<table>\n",
       "<thead><tr><th scope=col>entity_id</th><th scope=col>ENSG00000000003.13</th><th scope=col>ENSG00000000005.5</th><th scope=col>ENSG00000000419.11</th><th scope=col>ENSG00000000457.12</th><th scope=col>ENSG00000000460.15</th></tr></thead>\n",
       "<tbody>\n",
       "\t<tr><td>c78f2949-4050-5f14-a401-beddf3ff9f61</td><td>-3.3177181                          </td><td>-5.407333                           </td><td>5.323569                            </td><td>2.961357                            </td><td>-0.1796283                          </td></tr>\n",
       "\t<tr><td>1507ac24-8ba2-5e57-a05a-86b5157c8377</td><td>-1.7809495                          </td><td>-6.121355                           </td><td>3.640955                            </td><td>3.708995                            </td><td> 2.3826560                          </td></tr>\n",
       "\t<tr><td>5f49d1ae-e832-59de-89e1-93b6327232f0</td><td>-0.1600151                          </td><td>-6.927145                           </td><td>4.303660                            </td><td>2.955840                            </td><td> 0.5130812                          </td></tr>\n",
       "\t<tr><td>9d464669-4fa5-5c48-b1b0-f452bee4682e</td><td>-2.0565009                          </td><td>-4.747010                           </td><td>4.011269                            </td><td>1.708597                            </td><td> 2.4577253                          </td></tr>\n",
       "\t<tr><td>dcc4d9f2-0f77-58ce-8064-f6e12bffa5e7</td><td>-1.9643428                          </td><td>-6.083680                           </td><td>5.198414                            </td><td>2.732599                            </td><td> 1.1168739                          </td></tr>\n",
       "</tbody>\n",
       "</table>\n"
      ],
      "text/latex": [
       "\\begin{tabular}{r|llllll}\n",
       " entity\\_id & ENSG00000000003.13 & ENSG00000000005.5 & ENSG00000000419.11 & ENSG00000000457.12 & ENSG00000000460.15\\\\\n",
       "\\hline\n",
       "\t c78f2949-4050-5f14-a401-beddf3ff9f61 & -3.3177181                           & -5.407333                            & 5.323569                             & 2.961357                             & -0.1796283                          \\\\\n",
       "\t 1507ac24-8ba2-5e57-a05a-86b5157c8377 & -1.7809495                           & -6.121355                            & 3.640955                             & 3.708995                             &  2.3826560                          \\\\\n",
       "\t 5f49d1ae-e832-59de-89e1-93b6327232f0 & -0.1600151                           & -6.927145                            & 4.303660                             & 2.955840                             &  0.5130812                          \\\\\n",
       "\t 9d464669-4fa5-5c48-b1b0-f452bee4682e & -2.0565009                           & -4.747010                            & 4.011269                             & 1.708597                             &  2.4577253                          \\\\\n",
       "\t dcc4d9f2-0f77-58ce-8064-f6e12bffa5e7 & -1.9643428                           & -6.083680                            & 5.198414                             & 2.732599                             &  1.1168739                          \\\\\n",
       "\\end{tabular}\n"
      ],
      "text/markdown": [
       "\n",
       "| entity_id | ENSG00000000003.13 | ENSG00000000005.5 | ENSG00000000419.11 | ENSG00000000457.12 | ENSG00000000460.15 |\n",
       "|---|---|---|---|---|---|\n",
       "| c78f2949-4050-5f14-a401-beddf3ff9f61 | -3.3177181                           | -5.407333                            | 5.323569                             | 2.961357                             | -0.1796283                           |\n",
       "| 1507ac24-8ba2-5e57-a05a-86b5157c8377 | -1.7809495                           | -6.121355                            | 3.640955                             | 3.708995                             |  2.3826560                           |\n",
       "| 5f49d1ae-e832-59de-89e1-93b6327232f0 | -0.1600151                           | -6.927145                            | 4.303660                             | 2.955840                             |  0.5130812                           |\n",
       "| 9d464669-4fa5-5c48-b1b0-f452bee4682e | -2.0565009                           | -4.747010                            | 4.011269                             | 1.708597                             |  2.4577253                           |\n",
       "| dcc4d9f2-0f77-58ce-8064-f6e12bffa5e7 | -1.9643428                           | -6.083680                            | 5.198414                             | 2.732599                             |  1.1168739                           |\n",
       "\n"
      ],
      "text/plain": [
       "  entity_id                            ENSG00000000003.13 ENSG00000000005.5\n",
       "1 c78f2949-4050-5f14-a401-beddf3ff9f61 -3.3177181         -5.407333        \n",
       "2 1507ac24-8ba2-5e57-a05a-86b5157c8377 -1.7809495         -6.121355        \n",
       "3 5f49d1ae-e832-59de-89e1-93b6327232f0 -0.1600151         -6.927145        \n",
       "4 9d464669-4fa5-5c48-b1b0-f452bee4682e -2.0565009         -4.747010        \n",
       "5 dcc4d9f2-0f77-58ce-8064-f6e12bffa5e7 -1.9643428         -6.083680        \n",
       "  ENSG00000000419.11 ENSG00000000457.12 ENSG00000000460.15\n",
       "1 5.323569           2.961357           -0.1796283        \n",
       "2 3.640955           3.708995            2.3826560        \n",
       "3 4.303660           2.955840            0.5130812        \n",
       "4 4.011269           1.708597            2.4577253        \n",
       "5 5.198414           2.732599            1.1168739        "
      ]
     },
     "metadata": {},
     "output_type": "display_data"
    }
   ],
   "source": [
    "#Sanity check\n",
    "my.data[1:5, 1:6]"
   ]
  },
  {
   "cell_type": "code",
   "execution_count": 5,
   "metadata": {},
   "outputs": [],
   "source": [
    "#Read in the labels from a file\n",
    "my.labels <- read.csv(\"aml.data.labels.csv\", sep=\",\", header=T)"
   ]
  },
  {
   "cell_type": "code",
   "execution_count": 6,
   "metadata": {},
   "outputs": [
    {
     "data": {
      "text/html": [
       "<table>\n",
       "<thead><tr><th scope=col>entity_id</th><th scope=col>risk</th></tr></thead>\n",
       "<tbody>\n",
       "\t<tr><td>c78f2949-4050-5f14-a401-beddf3ff9f61</td><td>1                                   </td></tr>\n",
       "</tbody>\n",
       "</table>\n"
      ],
      "text/latex": [
       "\\begin{tabular}{r|ll}\n",
       " entity\\_id & risk\\\\\n",
       "\\hline\n",
       "\t c78f2949-4050-5f14-a401-beddf3ff9f61 & 1                                   \\\\\n",
       "\\end{tabular}\n"
      ],
      "text/markdown": [
       "\n",
       "| entity_id | risk |\n",
       "|---|---|\n",
       "| c78f2949-4050-5f14-a401-beddf3ff9f61 | 1                                    |\n",
       "\n"
      ],
      "text/plain": [
       "  entity_id                            risk\n",
       "1 c78f2949-4050-5f14-a401-beddf3ff9f61 1   "
      ]
     },
     "metadata": {},
     "output_type": "display_data"
    }
   ],
   "source": [
    "#Sanity check\n",
    "my.labels[1,]"
   ]
  },
  {
   "cell_type": "code",
   "execution_count": 7,
   "metadata": {},
   "outputs": [],
   "source": [
    "#Divide the rows up into the two classes\n",
    "class1 = which(my.labels[,2]==1)\n",
    "class0 = which(my.labels[,2]==0)"
   ]
  },
  {
   "cell_type": "code",
   "execution_count": 8,
   "metadata": {},
   "outputs": [],
   "source": [
    "#Go through all the columns (genes) except the first one since it's the ID's\n",
    "out = apply(my.data[,-1], 2, function(data){\n",
    "        \n",
    "    #get that gene's expression values for the two classes\n",
    "    gene.class0 = data[class0]\n",
    "    gene.class1 = data[class1]\n",
    "    \n",
    "    #for that gene, perform a t-test between the two classes, returning the absolute value since we only care about the magnitude\n",
    "    return(abs(t.test(gene.class1, gene.class0)$statistic))\n",
    "    })"
   ]
  },
  {
   "cell_type": "code",
   "execution_count": 32,
   "metadata": {},
   "outputs": [
    {
     "name": "stdout",
     "output_type": "stream",
     "text": [
      "[1] 1017\n"
     ]
    },
    {
     "data": {
      "text/html": [
       "<dl class=dl-horizontal>\n",
       "\t<dt>ENSG00000000003.13</dt>\n",
       "\t\t<dd>1</dd>\n",
       "\t<dt>ENSG00000002586.16</dt>\n",
       "\t\t<dd>23</dd>\n",
       "\t<dt>ENSG00000003436.13</dt>\n",
       "\t\t<dd>39</dd>\n",
       "\t<dt>ENSG00000004139.12</dt>\n",
       "\t\t<dd>45</dd>\n",
       "\t<dt>ENSG00000004399.11</dt>\n",
       "\t\t<dd>47</dd>\n",
       "\t<dt>ENSG00000005073.5</dt>\n",
       "\t\t<dd>74</dd>\n",
       "\t<dt>ENSG00000005108.14</dt>\n",
       "\t\t<dd>78</dd>\n",
       "\t<dt>ENSG00000005156.10</dt>\n",
       "\t\t<dd>79</dd>\n",
       "\t<dt>ENSG00000005249.11</dt>\n",
       "\t\t<dd>87</dd>\n",
       "\t<dt>ENSG00000005381.7</dt>\n",
       "\t\t<dd>91</dd>\n",
       "</dl>\n"
      ],
      "text/latex": [
       "\\begin{description*}\n",
       "\\item[ENSG00000000003.13] 1\n",
       "\\item[ENSG00000002586.16] 23\n",
       "\\item[ENSG00000003436.13] 39\n",
       "\\item[ENSG00000004139.12] 45\n",
       "\\item[ENSG00000004399.11] 47\n",
       "\\item[ENSG00000005073.5] 74\n",
       "\\item[ENSG00000005108.14] 78\n",
       "\\item[ENSG00000005156.10] 79\n",
       "\\item[ENSG00000005249.11] 87\n",
       "\\item[ENSG00000005381.7] 91\n",
       "\\end{description*}\n"
      ],
      "text/markdown": [
       "ENSG00000000003.13\n",
       ":   1ENSG00000002586.16\n",
       ":   23ENSG00000003436.13\n",
       ":   39ENSG00000004139.12\n",
       ":   45ENSG00000004399.11\n",
       ":   47ENSG00000005073.5\n",
       ":   74ENSG00000005108.14\n",
       ":   78ENSG00000005156.10\n",
       ":   79ENSG00000005249.11\n",
       ":   87ENSG00000005381.7\n",
       ":   91\n",
       "\n"
      ],
      "text/plain": [
       "ENSG00000000003.13 ENSG00000002586.16 ENSG00000003436.13 ENSG00000004139.12 \n",
       "                 1                 23                 39                 45 \n",
       "ENSG00000004399.11  ENSG00000005073.5 ENSG00000005108.14 ENSG00000005156.10 \n",
       "                47                 74                 78                 79 \n",
       "ENSG00000005249.11  ENSG00000005381.7 \n",
       "                87                 91 "
      ]
     },
     "metadata": {},
     "output_type": "display_data"
    }
   ],
   "source": [
    "#Isolate the genes with t-test values above a certain level == 2 [10k genes]\n",
    "# target.indeces <- which(out>2)\n",
    "\n",
    "# #Isolate the genes with t-test values above a certain level == 3.25 [5k genes]\n",
    "# target.indeces <- which(out>3.25)\n",
    "\n",
    "# #Isolate the genes with t-test values above a certain level == 4 [2.5k genes]\n",
    "# target.indeces <- which(out>4.25)\n",
    "\n",
    "#Isolate the genes with t-test values above a certain level == 4 [1k genes]\n",
    "target.indeces <- which(out>5.5)\n",
    "\n",
    "#Check how many there are, our target was to cut the number of genes in half\n",
    "print(length(target.indeces))\n",
    "target.indeces[1:10]"
   ]
  },
  {
   "cell_type": "code",
   "execution_count": 33,
   "metadata": {},
   "outputs": [
    {
     "data": {
      "text/html": [
       "<strong>ENSG00000000003.13:</strong> 1"
      ],
      "text/latex": [
       "\\textbf{ENSG00000000003.13:} 1"
      ],
      "text/markdown": [
       "**ENSG00000000003.13:** 1"
      ],
      "text/plain": [
       "ENSG00000000003.13 \n",
       "                 1 "
      ]
     },
     "metadata": {},
     "output_type": "display_data"
    },
    {
     "data": {
      "text/html": [
       "<table>\n",
       "<thead><tr><th scope=col>ENSG00000000003.13</th></tr></thead>\n",
       "<tbody>\n",
       "\t<tr><td>-3.31771814</td></tr>\n",
       "\t<tr><td>-1.78094954</td></tr>\n",
       "\t<tr><td>-0.16001511</td></tr>\n",
       "\t<tr><td>-2.05650088</td></tr>\n",
       "\t<tr><td>-1.96434282</td></tr>\n",
       "\t<tr><td>-1.90870811</td></tr>\n",
       "\t<tr><td>-0.60067711</td></tr>\n",
       "\t<tr><td>-3.32026712</td></tr>\n",
       "\t<tr><td>-0.25711846</td></tr>\n",
       "\t<tr><td> 0.10478390</td></tr>\n",
       "\t<tr><td>-2.88887604</td></tr>\n",
       "\t<tr><td>-1.44811871</td></tr>\n",
       "\t<tr><td>-0.85063319</td></tr>\n",
       "\t<tr><td>-1.46235948</td></tr>\n",
       "\t<tr><td>-1.49953118</td></tr>\n",
       "\t<tr><td>-2.67172050</td></tr>\n",
       "\t<tr><td>-0.07451477</td></tr>\n",
       "\t<tr><td>-2.03311027</td></tr>\n",
       "\t<tr><td>-1.35327677</td></tr>\n",
       "\t<tr><td> 3.69764117</td></tr>\n",
       "\t<tr><td>-1.66859476</td></tr>\n",
       "\t<tr><td>-3.01651461</td></tr>\n",
       "\t<tr><td>-6.92714510</td></tr>\n",
       "\t<tr><td>-4.16570014</td></tr>\n",
       "\t<tr><td> 3.99566715</td></tr>\n",
       "\t<tr><td>-1.15016239</td></tr>\n",
       "\t<tr><td>-6.92714510</td></tr>\n",
       "\t<tr><td>-6.92714510</td></tr>\n",
       "\t<tr><td>-1.21261035</td></tr>\n",
       "\t<tr><td>-2.66050433</td></tr>\n",
       "\t<tr><td>⋮</td></tr>\n",
       "\t<tr><td>-5.8287330</td></tr>\n",
       "\t<tr><td>-3.8755289</td></tr>\n",
       "\t<tr><td>-3.8155100</td></tr>\n",
       "\t<tr><td>-5.1755578</td></tr>\n",
       "\t<tr><td> 1.9164100</td></tr>\n",
       "\t<tr><td>-3.7016212</td></tr>\n",
       "\t<tr><td>-4.5983123</td></tr>\n",
       "\t<tr><td>-4.4123740</td></tr>\n",
       "\t<tr><td>-3.9619251</td></tr>\n",
       "\t<tr><td> 3.2743297</td></tr>\n",
       "\t<tr><td> 1.1181393</td></tr>\n",
       "\t<tr><td>-2.7285640</td></tr>\n",
       "\t<tr><td>-0.9242319</td></tr>\n",
       "\t<tr><td>-5.4593651</td></tr>\n",
       "\t<tr><td>-2.2000059</td></tr>\n",
       "\t<tr><td>-2.1959299</td></tr>\n",
       "\t<tr><td>-2.5195482</td></tr>\n",
       "\t<tr><td>-1.9352262</td></tr>\n",
       "\t<tr><td>-2.9938491</td></tr>\n",
       "\t<tr><td>-6.9271451</td></tr>\n",
       "\t<tr><td>-2.0705808</td></tr>\n",
       "\t<tr><td>-3.8733385</td></tr>\n",
       "\t<tr><td>-5.3042780</td></tr>\n",
       "\t<tr><td>-4.6197904</td></tr>\n",
       "\t<tr><td>-3.8593666</td></tr>\n",
       "\t<tr><td>-4.7587761</td></tr>\n",
       "\t<tr><td>-3.8489911</td></tr>\n",
       "\t<tr><td>-4.7504855</td></tr>\n",
       "\t<tr><td>-4.7270495</td></tr>\n",
       "\t<tr><td>-5.4879314</td></tr>\n",
       "</tbody>\n",
       "</table>\n"
      ],
      "text/latex": [
       "\\begin{tabular}{r|l}\n",
       " ENSG00000000003.13\\\\\n",
       "\\hline\n",
       "\t -3.31771814\\\\\n",
       "\t -1.78094954\\\\\n",
       "\t -0.16001511\\\\\n",
       "\t -2.05650088\\\\\n",
       "\t -1.96434282\\\\\n",
       "\t -1.90870811\\\\\n",
       "\t -0.60067711\\\\\n",
       "\t -3.32026712\\\\\n",
       "\t -0.25711846\\\\\n",
       "\t  0.10478390\\\\\n",
       "\t -2.88887604\\\\\n",
       "\t -1.44811871\\\\\n",
       "\t -0.85063319\\\\\n",
       "\t -1.46235948\\\\\n",
       "\t -1.49953118\\\\\n",
       "\t -2.67172050\\\\\n",
       "\t -0.07451477\\\\\n",
       "\t -2.03311027\\\\\n",
       "\t -1.35327677\\\\\n",
       "\t  3.69764117\\\\\n",
       "\t -1.66859476\\\\\n",
       "\t -3.01651461\\\\\n",
       "\t -6.92714510\\\\\n",
       "\t -4.16570014\\\\\n",
       "\t  3.99566715\\\\\n",
       "\t -1.15016239\\\\\n",
       "\t -6.92714510\\\\\n",
       "\t -6.92714510\\\\\n",
       "\t -1.21261035\\\\\n",
       "\t -2.66050433\\\\\n",
       "\t ⋮\\\\\n",
       "\t -5.8287330\\\\\n",
       "\t -3.8755289\\\\\n",
       "\t -3.8155100\\\\\n",
       "\t -5.1755578\\\\\n",
       "\t  1.9164100\\\\\n",
       "\t -3.7016212\\\\\n",
       "\t -4.5983123\\\\\n",
       "\t -4.4123740\\\\\n",
       "\t -3.9619251\\\\\n",
       "\t  3.2743297\\\\\n",
       "\t  1.1181393\\\\\n",
       "\t -2.7285640\\\\\n",
       "\t -0.9242319\\\\\n",
       "\t -5.4593651\\\\\n",
       "\t -2.2000059\\\\\n",
       "\t -2.1959299\\\\\n",
       "\t -2.5195482\\\\\n",
       "\t -1.9352262\\\\\n",
       "\t -2.9938491\\\\\n",
       "\t -6.9271451\\\\\n",
       "\t -2.0705808\\\\\n",
       "\t -3.8733385\\\\\n",
       "\t -5.3042780\\\\\n",
       "\t -4.6197904\\\\\n",
       "\t -3.8593666\\\\\n",
       "\t -4.7587761\\\\\n",
       "\t -3.8489911\\\\\n",
       "\t -4.7504855\\\\\n",
       "\t -4.7270495\\\\\n",
       "\t -5.4879314\\\\\n",
       "\\end{tabular}\n"
      ],
      "text/markdown": [
       "\n",
       "| ENSG00000000003.13 |\n",
       "|---|\n",
       "| -3.31771814 |\n",
       "| -1.78094954 |\n",
       "| -0.16001511 |\n",
       "| -2.05650088 |\n",
       "| -1.96434282 |\n",
       "| -1.90870811 |\n",
       "| -0.60067711 |\n",
       "| -3.32026712 |\n",
       "| -0.25711846 |\n",
       "|  0.10478390 |\n",
       "| -2.88887604 |\n",
       "| -1.44811871 |\n",
       "| -0.85063319 |\n",
       "| -1.46235948 |\n",
       "| -1.49953118 |\n",
       "| -2.67172050 |\n",
       "| -0.07451477 |\n",
       "| -2.03311027 |\n",
       "| -1.35327677 |\n",
       "|  3.69764117 |\n",
       "| -1.66859476 |\n",
       "| -3.01651461 |\n",
       "| -6.92714510 |\n",
       "| -4.16570014 |\n",
       "|  3.99566715 |\n",
       "| -1.15016239 |\n",
       "| -6.92714510 |\n",
       "| -6.92714510 |\n",
       "| -1.21261035 |\n",
       "| -2.66050433 |\n",
       "| ⋮ |\n",
       "| -5.8287330 |\n",
       "| -3.8755289 |\n",
       "| -3.8155100 |\n",
       "| -5.1755578 |\n",
       "|  1.9164100 |\n",
       "| -3.7016212 |\n",
       "| -4.5983123 |\n",
       "| -4.4123740 |\n",
       "| -3.9619251 |\n",
       "|  3.2743297 |\n",
       "|  1.1181393 |\n",
       "| -2.7285640 |\n",
       "| -0.9242319 |\n",
       "| -5.4593651 |\n",
       "| -2.2000059 |\n",
       "| -2.1959299 |\n",
       "| -2.5195482 |\n",
       "| -1.9352262 |\n",
       "| -2.9938491 |\n",
       "| -6.9271451 |\n",
       "| -2.0705808 |\n",
       "| -3.8733385 |\n",
       "| -5.3042780 |\n",
       "| -4.6197904 |\n",
       "| -3.8593666 |\n",
       "| -4.7587761 |\n",
       "| -3.8489911 |\n",
       "| -4.7504855 |\n",
       "| -4.7270495 |\n",
       "| -5.4879314 |\n",
       "\n"
      ],
      "text/plain": [
       "    ENSG00000000003.13\n",
       "1   -3.31771814       \n",
       "2   -1.78094954       \n",
       "3   -0.16001511       \n",
       "4   -2.05650088       \n",
       "5   -1.96434282       \n",
       "6   -1.90870811       \n",
       "7   -0.60067711       \n",
       "8   -3.32026712       \n",
       "9   -0.25711846       \n",
       "10   0.10478390       \n",
       "11  -2.88887604       \n",
       "12  -1.44811871       \n",
       "13  -0.85063319       \n",
       "14  -1.46235948       \n",
       "15  -1.49953118       \n",
       "16  -2.67172050       \n",
       "17  -0.07451477       \n",
       "18  -2.03311027       \n",
       "19  -1.35327677       \n",
       "20   3.69764117       \n",
       "21  -1.66859476       \n",
       "22  -3.01651461       \n",
       "23  -6.92714510       \n",
       "24  -4.16570014       \n",
       "25   3.99566715       \n",
       "26  -1.15016239       \n",
       "27  -6.92714510       \n",
       "28  -6.92714510       \n",
       "29  -1.21261035       \n",
       "30  -2.66050433       \n",
       "⋮   ⋮                 \n",
       "148 -5.8287330        \n",
       "149 -3.8755289        \n",
       "150 -3.8155100        \n",
       "151 -5.1755578        \n",
       "152  1.9164100        \n",
       "153 -3.7016212        \n",
       "154 -4.5983123        \n",
       "155 -4.4123740        \n",
       "156 -3.9619251        \n",
       "157  3.2743297        \n",
       "158  1.1181393        \n",
       "159 -2.7285640        \n",
       "160 -0.9242319        \n",
       "161 -5.4593651        \n",
       "162 -2.2000059        \n",
       "163 -2.1959299        \n",
       "164 -2.5195482        \n",
       "165 -1.9352262        \n",
       "166 -2.9938491        \n",
       "167 -6.9271451        \n",
       "168 -2.0705808        \n",
       "169 -3.8733385        \n",
       "170 -5.3042780        \n",
       "171 -4.6197904        \n",
       "172 -3.8593666        \n",
       "173 -4.7587761        \n",
       "174 -3.8489911        \n",
       "175 -4.7504855        \n",
       "176 -4.7270495        \n",
       "177 -5.4879314        "
      ]
     },
     "metadata": {},
     "output_type": "display_data"
    }
   ],
   "source": [
    "#Sanity check to make sure we correctly take into account the first column's existence\n",
    "target.indeces[1]\n",
    "my.data[target.indeces[1]+1]"
   ]
  },
  {
   "cell_type": "code",
   "execution_count": 34,
   "metadata": {},
   "outputs": [],
   "source": [
    "#Reduce the original data down to only the selected genes and the first column with labels\n",
    "columns <- my.data[c(1,target.indeces+1)]"
   ]
  },
  {
   "cell_type": "code",
   "execution_count": 35,
   "metadata": {},
   "outputs": [
    {
     "data": {
      "text/html": [
       "<table>\n",
       "<thead><tr><th scope=col>entity_id</th><th scope=col>ENSG00000000003.13</th><th scope=col>ENSG00000002586.16</th><th scope=col>ENSG00000003436.13</th><th scope=col>ENSG00000004139.12</th></tr></thead>\n",
       "<tbody>\n",
       "\t<tr><td>c78f2949-4050-5f14-a401-beddf3ff9f61</td><td>-3.3177181                          </td><td>7.573619                            </td><td> 7.4966393                          </td><td>0.03004371                          </td></tr>\n",
       "\t<tr><td>1507ac24-8ba2-5e57-a05a-86b5157c8377</td><td>-1.7809495                          </td><td>7.051258                            </td><td> 3.3462000                          </td><td>2.18425051                          </td></tr>\n",
       "\t<tr><td>5f49d1ae-e832-59de-89e1-93b6327232f0</td><td>-0.1600151                          </td><td>7.439541                            </td><td> 4.4489800                          </td><td>2.12218567                          </td></tr>\n",
       "\t<tr><td>9d464669-4fa5-5c48-b1b0-f452bee4682e</td><td>-2.0565009                          </td><td>8.326120                            </td><td>-0.2511955                          </td><td>2.74683948                          </td></tr>\n",
       "\t<tr><td>dcc4d9f2-0f77-58ce-8064-f6e12bffa5e7</td><td>-1.9643428                          </td><td>6.281959                            </td><td> 1.3710094                          </td><td>2.47416407                          </td></tr>\n",
       "</tbody>\n",
       "</table>\n"
      ],
      "text/latex": [
       "\\begin{tabular}{r|lllll}\n",
       " entity\\_id & ENSG00000000003.13 & ENSG00000002586.16 & ENSG00000003436.13 & ENSG00000004139.12\\\\\n",
       "\\hline\n",
       "\t c78f2949-4050-5f14-a401-beddf3ff9f61 & -3.3177181                           & 7.573619                             &  7.4966393                           & 0.03004371                          \\\\\n",
       "\t 1507ac24-8ba2-5e57-a05a-86b5157c8377 & -1.7809495                           & 7.051258                             &  3.3462000                           & 2.18425051                          \\\\\n",
       "\t 5f49d1ae-e832-59de-89e1-93b6327232f0 & -0.1600151                           & 7.439541                             &  4.4489800                           & 2.12218567                          \\\\\n",
       "\t 9d464669-4fa5-5c48-b1b0-f452bee4682e & -2.0565009                           & 8.326120                             & -0.2511955                           & 2.74683948                          \\\\\n",
       "\t dcc4d9f2-0f77-58ce-8064-f6e12bffa5e7 & -1.9643428                           & 6.281959                             &  1.3710094                           & 2.47416407                          \\\\\n",
       "\\end{tabular}\n"
      ],
      "text/markdown": [
       "\n",
       "| entity_id | ENSG00000000003.13 | ENSG00000002586.16 | ENSG00000003436.13 | ENSG00000004139.12 |\n",
       "|---|---|---|---|---|\n",
       "| c78f2949-4050-5f14-a401-beddf3ff9f61 | -3.3177181                           | 7.573619                             |  7.4966393                           | 0.03004371                           |\n",
       "| 1507ac24-8ba2-5e57-a05a-86b5157c8377 | -1.7809495                           | 7.051258                             |  3.3462000                           | 2.18425051                           |\n",
       "| 5f49d1ae-e832-59de-89e1-93b6327232f0 | -0.1600151                           | 7.439541                             |  4.4489800                           | 2.12218567                           |\n",
       "| 9d464669-4fa5-5c48-b1b0-f452bee4682e | -2.0565009                           | 8.326120                             | -0.2511955                           | 2.74683948                           |\n",
       "| dcc4d9f2-0f77-58ce-8064-f6e12bffa5e7 | -1.9643428                           | 6.281959                             |  1.3710094                           | 2.47416407                           |\n",
       "\n"
      ],
      "text/plain": [
       "  entity_id                            ENSG00000000003.13 ENSG00000002586.16\n",
       "1 c78f2949-4050-5f14-a401-beddf3ff9f61 -3.3177181         7.573619          \n",
       "2 1507ac24-8ba2-5e57-a05a-86b5157c8377 -1.7809495         7.051258          \n",
       "3 5f49d1ae-e832-59de-89e1-93b6327232f0 -0.1600151         7.439541          \n",
       "4 9d464669-4fa5-5c48-b1b0-f452bee4682e -2.0565009         8.326120          \n",
       "5 dcc4d9f2-0f77-58ce-8064-f6e12bffa5e7 -1.9643428         6.281959          \n",
       "  ENSG00000003436.13 ENSG00000004139.12\n",
       "1  7.4966393         0.03004371        \n",
       "2  3.3462000         2.18425051        \n",
       "3  4.4489800         2.12218567        \n",
       "4 -0.2511955         2.74683948        \n",
       "5  1.3710094         2.47416407        "
      ]
     },
     "metadata": {},
     "output_type": "display_data"
    },
    {
     "data": {
      "text/html": [
       "<ol class=list-inline>\n",
       "\t<li>177</li>\n",
       "\t<li>1018</li>\n",
       "</ol>\n"
      ],
      "text/latex": [
       "\\begin{enumerate*}\n",
       "\\item 177\n",
       "\\item 1018\n",
       "\\end{enumerate*}\n"
      ],
      "text/markdown": [
       "1. 177\n",
       "2. 1018\n",
       "\n",
       "\n"
      ],
      "text/plain": [
       "[1]  177 1018"
      ]
     },
     "metadata": {},
     "output_type": "display_data"
    }
   ],
   "source": [
    "#sanity check before outputting to file\n",
    "columns[1:5, 1:5]\n",
    "dim(columns)"
   ]
  },
  {
   "cell_type": "code",
   "execution_count": 36,
   "metadata": {},
   "outputs": [],
   "source": [
    "# #Write the reduced array to a new file\n",
    "# write.csv(columns, file=\"aml.data.RNA.reduced.csv\", row.names=FALSE)\n",
    "\n",
    "# #Write the reduced array to a new file\n",
    "# write.csv(columns, file=\"aml.data.RNA.5k.csv\", row.names=FALSE)\n",
    "\n",
    "# #Write the reduced array to a new file\n",
    "# write.csv(columns, file=\"aml.data.RNA.2.5k.csv\", row.names=FALSE)\n",
    "\n",
    "#Write the reduced array to a new file\n",
    "write.csv(columns, file=\"aml.data.RNA.1k.csv\", row.names=FALSE)"
   ]
  },
  {
   "cell_type": "code",
   "execution_count": null,
   "metadata": {},
   "outputs": [],
   "source": []
  }
 ],
 "metadata": {
  "kernelspec": {
   "display_name": "R",
   "language": "R",
   "name": "ir"
  },
  "language_info": {
   "codemirror_mode": "r",
   "file_extension": ".r",
   "mimetype": "text/x-r-source",
   "name": "R",
   "pygments_lexer": "r",
   "version": "3.5.1"
  }
 },
 "nbformat": 4,
 "nbformat_minor": 2
}
